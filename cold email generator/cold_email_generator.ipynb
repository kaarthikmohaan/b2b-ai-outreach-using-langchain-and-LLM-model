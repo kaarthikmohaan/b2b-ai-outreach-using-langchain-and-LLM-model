{
 "cells": [
  {
   "cell_type": "code",
   "execution_count": 1,
   "id": "3efc1bfd-d743-4b9c-a21e-16c6797ba822",
   "metadata": {},
   "outputs": [],
   "source": [
    "# Setup ChatGroq LLM with model and API key, zero randomness\n",
    "\n",
    "from langchain_groq import ChatGroq\n",
    "\n",
    "llm = ChatGroq(\n",
    "    model=\"llama-3.3-70b-versatile\",\n",
    "    groq_api_key=\"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\",\n",
    "    temperature=0\n",
    ")"
   ]
  },
  {
   "cell_type": "code",
   "execution_count": 2,
   "id": "bdb37f14-aa35-4e68-9b47-c2507c0c0d10",
   "metadata": {},
   "outputs": [],
   "source": [
    "# Uses Playwright to fetch HTML content from a webpage.\n",
    "# - Launches headless browser, sets User-Agent, and opens URL\n",
    "# - Waits for page to load and returns full HTML\n",
    "# - Wraps HTML in a LangChain Document with source metadata\n",
    "\n",
    "from playwright.async_api import async_playwright\n",
    "from langchain_core.documents import Document\n",
    "\n",
    "async def fetch_html(url):\n",
    "    async with async_playwright() as p:\n",
    "        browser = await p.chromium.launch(headless=True)\n",
    "        page = await browser.new_page()\n",
    "        await page.set_extra_http_headers({\n",
    "            \"User-Agent\": \"Mozilla/5.0 (Windows NT 10.0; Win64; x64) AppleWebKit/537.36 (KHTML, like Gecko) Chrome/115.0.0.0 Safari/537.36\"\n",
    "        })\n",
    "        await page.goto(url, timeout=60000)\n",
    "        await page.wait_for_load_state(\"domcontentloaded\")\n",
    "        html = await page.content()\n",
    "        await browser.close()\n",
    "        return html\n",
    "\n",
    "html = await fetch_html(\"https://openai.com/careers/data-scientist/\") # Input URL \n",
    "doc = Document(page_content=html, metadata={\"source\": \"openai.com\"})"
   ]
  },
  {
   "cell_type": "code",
   "execution_count": 3,
   "id": "8374f9f0-cfe6-4de1-ace2-fbffd2fcf4b3",
   "metadata": {},
   "outputs": [
    {
     "name": "stdout",
     "output_type": "stream",
     "text": [
      "Data Scientist | OpenAI\n",
      "Skip to main content\n",
      "Log in\n",
      "Switch to\n",
      "ChatGPT\n",
      "(opens in a new window)\n",
      "Sora\n",
      "(opens in a new window)\n",
      "API Platform\n",
      "(opens in a new window)\n",
      "Home\n",
      "About Us\n",
      "Our Charter\n",
      "Careers\n",
      "Brand Guidelines\n",
      "Research\n",
      "Back to main menu\n",
      "Research Index\n",
      "Research Overview\n",
      "Research Residency\n",
      "Latest Advancements\n",
      "OpenAI o3 and o4-mini\n",
      "GPT-4.5\n",
      "OpenAI o1\n",
      "GPT-4o\n",
      "Sora\n",
      "Safety\n",
      "Back to main menu\n",
      "Safety Approach\n",
      "Security & Privacy\n",
      "For Business\n",
      "Back to main menu\n",
      "Business Overview\n",
      "Solutions\n",
      "Contact Sales\n",
      "ChatGPT\n",
      "Back to main menu\n",
      "Explore ChatGPT\n",
      "Team\n",
      "Enterprise\n",
      "Education\n",
      "Pricing\n",
      "Download\n",
      "Sora\n",
      "Back to main menu\n",
      "Sora Overview\n",
      "Features\n",
      "Pricing\n",
      "Help Center\n",
      "(opens in a new window)\n",
      "Sora Log in\n",
      "(opens in a new window)\n",
      "API Platform\n",
      "Back to main menu\n",
      "Platform Overview\n",
      "Pricing\n",
      "API Log in\n",
      "(opens in a new window)\n",
      "Documentation\n",
      "(opens in a new window)\n",
      "Developer Forum\n",
      "(opens in a new window)\n",
      "Stories\n",
      "Company\n",
      "Back to main menu\n",
      "About Us\n",
      "Our Charter\n",
      "Careers\n",
      "Brand Guidelines\n",
      "News\n",
      "Log in\n",
      "OpenAI\n",
      "Careers\n",
      "Data Scientist\n",
      "Data Science - San Francisco\n",
      "Apply now\n",
      "(opens in a new window)\n",
      "About the Team\n",
      "The Strategic Finance team is responsible for some of the largest investment categories at OpenAI. We play a critical role in maximizing OpenAI’s long-term value by partnering across the business to allocate and deploy resources for the highest-impact outcomes. We work cross-functionally with Finance, Product, Engineering, and Go-To-Market teams to deliver actionable insights and support strategic decision-making.\n",
      "About the Role\n",
      "As one of the founding Data Scientists on the Strategic Finance Data Science team, you will design, implement, and own critical models, reporting, and analysis. You will work closely with Finance leadership, as well as teams across Research, Applied and Go-To-Market.\n",
      "This role requires deep expertise in predictive modeling, causal inference, and the ability to surface insights to support high-stakes decision-making.\n",
      "This role is based in our San Francisco HQ. We use a hybrid work model of three days in the office per week and offer relocation assistance to new employees.\n",
      "In this role, you will:\n",
      "Become an expert in OpenAI’s data and systems. Partnering with Data Engineering, Finance, and other teams, you’ll self-serve data to derive critical insights.\n",
      "Scale causal inference models to measure the impact of different actions on user growth and financial outcomes.\n",
      "Architect customer segmentation frameworks to unlock tailored growth strategies and expand lifetime value.\n",
      "Automate standardized reporting and analysis by building data products or agentic solutions.\n",
      "Support product pricing and other business decisions with ad hoc analysis.\n",
      "Design and deliver dashboards for leadership to track key performance indicators and enable optimal decision-making.\n",
      "Manage and lead cross-functional data science projects end-to-end.\n",
      "You might thrive in this role if you have:\n",
      "MS or PhD in a quantitative field, with 7+ years of experience in a highly quantitative role, ideally as an early data scientist at a hyper-growth company or research organization.\n",
      "Proficiency in Python, SQL, Tableau, and other analytical tools.\n",
      "Strong analytical skills and experience working with large, complex data sets.\n",
      "Proven ability to distill complex data into actionable insights for leadership.\n",
      "Ability to independently initiate and complete projects, owning them end-to-end.\n",
      "Excellent communication and storytelling skills when presenting data insights.\n",
      "Exceptional attention to detail and a commitment to accuracy.\n",
      "You could be an especially great fit if:\n",
      "You’re an enthusiastic self-starter who thrives in fast-paced, dynamic environments.\n",
      "You’re a phenomenal teammate and communicator, able to explain complex topics with clarity and keep stakeholders proactively informed.\n",
      "You’re passionate about technology and artificial intelligence.\n",
      "You use first-principles thinking to design solutions from the ground up based on user needs and operational realities.\n",
      "About OpenAI\n",
      "OpenAI is an AI research and deployment company dedicated to ensuring that general-purpose artificial intelligence benefits all of humanity. We push the boundaries of the capabilities of AI systems and seek to safely deploy them to the world through our products. AI is an extremely powerful tool that must be created with safety and human needs at its core, and to achieve our mission, we must encompass and value the many different perspectives, voices, and experiences that form the full spectrum of humanity.\n",
      "We are an equal opportunity employer, and we do not discriminate on the basis of race, religion, color, national origin, sex, sexual orientation, age, veteran status, disability, genetic information, or other applicable legally protected characteristic.\n",
      "For additional information, please see\n",
      "OpenAI’s Affirmative Action and Equal Employment Opportunity Policy Statement\n",
      ".\n",
      "Qualified applicants with arrest or conviction records will be considered for employment in accordance with applicable law, including the San Fra\n"
     ]
    }
   ],
   "source": [
    "# Parse HTML, extract visible text, wrap in LangChain Document, and preview\n",
    "\n",
    "from bs4 import BeautifulSoup\n",
    "\n",
    "soup = BeautifulSoup(html, \"html.parser\")\n",
    "text = soup.get_text(separator=\"\\n\", strip=True)\n",
    "doc = Document(page_content=text, metadata={\"source\": \"openai.com\"})\n",
    "\n",
    "print(doc.page_content[:5000])"
   ]
  },
  {
   "cell_type": "code",
   "execution_count": 4,
   "id": "bd1b47b3-cb7e-4ad1-b1dd-3e3f2b4542ee",
   "metadata": {},
   "outputs": [],
   "source": [
    "from langchain_core.prompts import PromptTemplate\n",
    "\n",
    "prompt_extract = PromptTemplate.from_template(\n",
    "         \"\"\"\n",
    "        ### SCRAPED TEXT FROM WEBSITE:\n",
    "        {page_data}\n",
    "        ### INSTRUCTION:\n",
    "        The scraped text is from the career's page of a website.\n",
    "        Your job is to extract the job postings and return them in JSON format containing the \n",
    "        following keys: `role`, `location`, `experience`, `skills` and `description`.\n",
    "        Only return the valid JSON.\n",
    "        ### VALID JSON (NO PREAMBLE):    \n",
    "        \"\"\"\n",
    ")\n",
    "\n",
    "chain_extract = prompt_extract | llm \n",
    "res = chain_extract.invoke(input={'page_data':doc})"
   ]
  },
  {
   "cell_type": "code",
   "execution_count": 5,
   "id": "beba5783-4e57-48a2-821c-3f81b9519360",
   "metadata": {},
   "outputs": [
    {
     "data": {
      "text/plain": [
       "{'role': 'Data Scientist',\n",
       " 'location': 'San Francisco',\n",
       " 'experience': '7+ years',\n",
       " 'skills': ['Python',\n",
       "  'SQL',\n",
       "  'Tableau',\n",
       "  'Predictive modeling',\n",
       "  'Causal inference'],\n",
       " 'description': 'Design, implement, and own critical models, reporting, and analysis to support high-stakes decision-making. Partner with Finance leadership and teams across Research, Applied and Go-To-Market to deliver actionable insights.'}"
      ]
     },
     "execution_count": 5,
     "metadata": {},
     "output_type": "execute_result"
    }
   ],
   "source": [
    "from langchain_core.output_parsers import JsonOutputParser\n",
    "\n",
    "json_parser = JsonOutputParser()\n",
    "json_res = json_parser.parse(res.content)\n",
    "json_res"
   ]
  },
  {
   "cell_type": "code",
   "execution_count": 6,
   "id": "97be13e2-91c1-417a-a732-fa459b145cd7",
   "metadata": {},
   "outputs": [
    {
     "name": "stdout",
     "output_type": "stream",
     "text": [
      "                           Techstack                                  Links\n",
      "0            React, Node.js, MongoDB    https://example.com/react-portfolio\n",
      "1           Angular,.NET, SQL Server  https://example.com/angular-portfolio\n",
      "2  Vue.js, Ruby on Rails, PostgreSQL      https://example.com/vue-portfolio\n",
      "3              Python, Django, MySQL   https://example.com/python-portfolio\n",
      "4          Java, Spring Boot, Oracle     https://example.com/java-portfolio\n"
     ]
    }
   ],
   "source": [
    "import pandas as pd\n",
    "\n",
    "df = pd.read_csv(\"company_portfolio.csv\")\n",
    "print(df.head())"
   ]
  },
  {
   "cell_type": "code",
   "execution_count": 7,
   "id": "4dc22680-2e76-425c-8d49-18d6a0f27fcc",
   "metadata": {},
   "outputs": [],
   "source": [
    "import uuid\n",
    "import chromadb\n",
    "\n",
    "client = chromadb.PersistentClient('vectorstore')\n",
    "collection = client.get_or_create_collection(name=\"portfolio\")\n",
    "\n",
    "if not collection.count():\n",
    "    for _, row in df.iterrows():\n",
    "        collection.add(documents=row[\"Techstack\"],\n",
    "                       metadatas={\"links\": row[\"Links\"]},\n",
    "                       ids=[str(uuid.uuid4())])"
   ]
  },
  {
   "cell_type": "code",
   "execution_count": 9,
   "id": "bd966071-4928-4034-a6f5-71ecf57eec6b",
   "metadata": {},
   "outputs": [
    {
     "data": {
      "text/plain": [
       "[[{'links': 'https://example.com/ml-python-portfolio'},\n",
       "  {'links': 'https://example.com/python-portfolio'}],\n",
       " [{'links': 'https://example.com/magento-portfolio'},\n",
       "  {'links': 'https://example.com/wordpress-portfolio'}],\n",
       " [{'links': 'https://example.com/flutter-portfolio'},\n",
       "  {'links': 'https://example.com/android-tv-portfolio'}],\n",
       " [{'links': 'https://example.com/ml-python-portfolio'},\n",
       "  {'links': 'https://example.com/magento-portfolio'}],\n",
       " [{'links': 'https://example.com/ml-python-portfolio'},\n",
       "  {'links': 'https://example.com/android-tv-portfolio'}]]"
      ]
     },
     "execution_count": 9,
     "metadata": {},
     "output_type": "execute_result"
    }
   ],
   "source": [
    "links = collection.query(query_texts=job['skills'], n_results=2).get('metadatas', [])\n",
    "links"
   ]
  },
  {
   "cell_type": "code",
   "execution_count": 12,
   "id": "5b442289-396b-402a-8416-8ddd6af6046d",
   "metadata": {},
   "outputs": [
    {
     "data": {
      "text/plain": [
       "{'role': 'Data Scientist',\n",
       " 'location': 'San Francisco',\n",
       " 'experience': '7+ years',\n",
       " 'skills': ['Python',\n",
       "  'SQL',\n",
       "  'Tableau',\n",
       "  'Predictive modeling',\n",
       "  'Causal inference'],\n",
       " 'description': 'Design, implement, and own critical models, reporting, and analysis to support high-stakes decision-making. Partner with Finance leadership and teams across Research, Applied and Go-To-Market to deliver actionable insights.'}"
      ]
     },
     "execution_count": 12,
     "metadata": {},
     "output_type": "execute_result"
    }
   ],
   "source": [
    "job"
   ]
  },
  {
   "cell_type": "code",
   "execution_count": 11,
   "id": "0468ec23-f6d2-4add-af71-b93c583eb11e",
   "metadata": {},
   "outputs": [
    {
     "data": {
      "text/plain": [
       "['Python', 'SQL', 'Tableau', 'Predictive modeling', 'Causal inference']"
      ]
     },
     "execution_count": 11,
     "metadata": {},
     "output_type": "execute_result"
    }
   ],
   "source": [
    "job['skills']"
   ]
  },
  {
   "cell_type": "code",
   "execution_count": 13,
   "id": "e7e85d57-000d-487f-8b4e-fcae024cc0c0",
   "metadata": {},
   "outputs": [
    {
     "name": "stdout",
     "output_type": "stream",
     "text": [
      "Subject: Expert Data Science Solutions for Informed Decision-Making\n",
      "\n",
      "Dear Hiring Manager,\n",
      "\n",
      "I came across the Data Scientist role at your esteemed organization in San Francisco, and I was impressed by the job description. As a business development executive at AtliQ, an AI & Software Consulting company, I believe our expertise can help you design, implement, and own critical models, reporting, and analysis to support high-stakes decision-making.\n",
      "\n",
      "With 7+ years of experience in mind, our team of experts can leverage Python, SQL, Tableau, Predictive modeling, and Causal inference to deliver actionable insights that drive business growth. Our capabilities in data science and analytics can empower your Finance leadership and teams across Research, Applied, and Go-To-Market to make informed decisions.\n",
      "\n",
      "Our portfolio showcases our proficiency in machine learning and Python, which can be viewed at https://example.com/ml-python-portfolio and https://example.com/python-portfolio. These examples demonstrate our ability to develop tailored solutions that foster scalability, process optimization, cost reduction, and heightened overall efficiency.\n",
      "\n",
      "I would be delighted to discuss how AtliQ can support your organization's goals and objectives. Please let me know if you would like to schedule a call to explore further.\n",
      "\n",
      "Best regards,\n",
      "Karthik Mohan\n",
      "Business Development Executive, AtliQ\n"
     ]
    }
   ],
   "source": [
    "prompt_email = PromptTemplate.from_template(\n",
    "        \"\"\"\n",
    "        ### JOB DESCRIPTION:\n",
    "        {job_description}\n",
    "        \n",
    "        ### INSTRUCTION:\n",
    "        You are Karthik Mohan, a business development executive at AtliQ. AtliQ is an AI & Software Consulting company dedicated to facilitating\n",
    "        the seamless integration of business processes through automated tools. \n",
    "        Over our experience, we have empowered numerous enterprises with tailored solutions, fostering scalability, \n",
    "        process optimization, cost reduction, and heightened overall efficiency. \n",
    "        Your job is to write a cold email to the client regarding the job mentioned above describing the capability of AtliQ \n",
    "        in fulfilling their needs.\n",
    "        Also add the most relevant ones from the following links to showcase Atliq's portfolio: {link_list}\n",
    "        Remember you are Mohan, BDE at AtliQ. \n",
    "        Do not provide a preamble.\n",
    "        ### EMAIL (NO PREAMBLE):\n",
    "        \n",
    "        \"\"\"\n",
    "        )\n",
    "\n",
    "chain_email = prompt_email | llm\n",
    "res = chain_email.invoke({\"job_description\": str(job), \"link_list\": links})\n",
    "print(res.content)"
   ]
  }
 ],
 "metadata": {
  "kernelspec": {
   "display_name": "Python 3 (ipykernel)",
   "language": "python",
   "name": "python3"
  },
  "language_info": {
   "codemirror_mode": {
    "name": "ipython",
    "version": 3
   },
   "file_extension": ".py",
   "mimetype": "text/x-python",
   "name": "python",
   "nbconvert_exporter": "python",
   "pygments_lexer": "ipython3",
   "version": "3.13.5"
  }
 },
 "nbformat": 4,
 "nbformat_minor": 5
}
